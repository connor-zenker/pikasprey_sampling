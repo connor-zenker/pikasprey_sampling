{
 "cells": [
  {
   "cell_type": "code",
   "execution_count": 1,
   "metadata": {},
   "outputs": [
    {
     "name": "stdout",
     "output_type": "stream",
     "text": [
      "86\n"
     ]
    }
   ],
   "source": [
    "import numpy as np\n",
    "N = 1000000000\n",
    "max = 0\n",
    "for i in range(0, N):\n",
    "    draw = np.random.binomial(231, 0.25)\n",
    "    if draw > max:\n",
    "        max = draw\n",
    "print(max)"
   ]
  },
  {
   "cell_type": "code",
   "execution_count": 22,
   "metadata": {},
   "outputs": [
    {
     "name": "stdout",
     "output_type": "stream",
     "text": [
      "100\n"
     ]
    }
   ],
   "source": [
    "from multiprocessing import Pool\n",
    "import defs\n",
    "\n",
    "if __name__ == '__main__':\n",
    "    with Pool(10) as p:\n",
    "        A = p.map(defs.f, list(range(0, 1000000)))\n",
    "print(max(A))"
   ]
  }
 ],
 "metadata": {
  "kernelspec": {
   "display_name": "Python 3",
   "language": "python",
   "name": "python3"
  },
  "language_info": {
   "codemirror_mode": {
    "name": "ipython",
    "version": 3
   },
   "file_extension": ".py",
   "mimetype": "text/x-python",
   "name": "python",
   "nbconvert_exporter": "python",
   "pygments_lexer": "ipython3",
   "version": "3.8.9"
  }
 },
 "nbformat": 4,
 "nbformat_minor": 2
}
